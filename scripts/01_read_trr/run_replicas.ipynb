{
 "cells": [
  {
   "cell_type": "code",
   "execution_count": 2,
   "id": "651203b9-a42b-46f8-9a80-6539a0d7fe2c",
   "metadata": {},
   "outputs": [],
   "source": [
    "import MDAnalysis as mda\n",
    "import numpy as np\n",
    "from numpy import linalg \n",
    "import pandas as pd\n",
    "import matplotlib.pyplot as plt\n",
    "\n",
    "from MLDynamics import io, properties\n",
    "\n",
    "####################\n",
    "# Define constants #\n",
    "####################\n",
    "\n",
    "PDB_COORDINATE_COLUMNS = [5,6,7]\n",
    "\n",
    "# Project Directory\n",
    "# Where are all the files located\n",
    "WORKING_DIR = \"/scratch/masauer2/FMA_KEMP/KE_ML/classic_study/template_R1_0\"\n",
    "\n",
    "# Subdirectory that the trajectories (.trr) are located in\n",
    "# i.e each replica will be in file 02-sample_X (where X ranges from 0 to 19)\n",
    "TRAJECTORY_DIR = \"08-converged/02-sample_\"\n",
    "TRAJECTORY_NAME = \"sample-NPT_pbc_rot+trans.trr\"\n",
    "\n",
    "# Number of replicas\n",
    "N_REPLICAS = 1\n",
    "\n",
    "# Reference Structure - this is only used to import the trr file w/ MDAnalysis\n",
    "# We redefine the reference structure to be the first timestep of each trajectory\n",
    "# See variable array - startTime\n",
    "GRO_FILEPATH = \"/scratch/masauer2/FMA_KEMP/KE_ML/classic_study/template_R1_0/00-prep/prot.gro\"\n",
    "\n",
    "def trunc(values, decs=0):\n",
    "    return np.trunc(values*10**decs)/(10**decs)"
   ]
  },
  {
   "cell_type": "markdown",
   "id": "2dc72377-76ca-4e95-83ca-c29d26e7b0d5",
   "metadata": {},
   "source": [
    "## Step 1 - Use MD Analysis to read in trajectory\n",
    "\n",
    "Please ensure that you have an enviornment setup that includes the following packages\n",
    "- MDAnalysis\n",
    "- numpy\n",
    "- pandas\n",
    "- matplotlib\n",
    "\n",
    "All simulations were performed using the GROMACS 2022.5 software package. The AMBER99SB-ILDN force fied was used to describe the potential energy of the protein. Salt was added at a concentration of 150 nM. \n",
    "\n",
    "Energy minimization was performed using the steepest descent algorithmf or 1000 steps. Then, the system was equilibrated in the isobaric–isothermal (NPT) ensemble at 300 K and 1 bar for 100 ps with a 1 fs timestep, a velocity rescaling thermostat5 with a\n",
    "1.0 ps time constant, and a stochastic cell rescaling barostat with a time constant of 2.0 ps.\n",
    "\n",
    "Then, we performed two separate studies: a classic MD and an enhanced MD study. Each study follows the same protocol steps.\n",
    "\n",
    "In the classic MD study, we perform a 100 ns simulation in the NPT ensemble to sample a configuration every 5 ns (for a total of 20 configurations). Each configuration becomes the starting point for an independent 100 ns NPT simulation - for a total of 2000 ns of simulation. We constrain all bonds involving hydrogens and use a 2 fs timestep. We also employ a Nose Hoover thermostate with a 1 ps timestep and a Parrinello-Rahman barostate with a 2.0 ps time constant. Short-ranged electrostatic and Lennard-Jones\n",
    "interactions were treated with a 10 Å real–space cutoff with energy and pressure corrections\n",
    "for dispersion interactions. Long–ranged electrostatic interactions were treated with the\n",
    "Particle Mesh Ewald algorithm, using a 1.2 Å grid. \n",
    "\n",
    "In the enhanced MD study, we run 20 replicas of well-tempered metadynamics along FRESEAN Modes 7 and 8 at 0 THz at 300K. In WT-metadynamics, external bias potential is deposited at a fixed rate (termed Gaussians) - allowing for the exploration of high free energy regions along the selected collective variables. \n",
    "Gaussian functions were deposited at the current position in CV space every 1.0 ps with an initial height of 1.0 kJ/mol and a an initial width of 0.001 kJ/mol. The unitless bias factor was set to 10 for all cases."
   ]
  },
  {
   "cell_type": "code",
   "execution_count": 3,
   "id": "68d9803c-8af4-4dfb-ab25-e6c816257f3c",
   "metadata": {},
   "outputs": [],
   "source": [
    "# trajectoryNames stores the name of each trajectory \n",
    "# then we will import all replicas into one long trajectory\n",
    "\n",
    "# Read in trajectories - already unwrapped and centered\n",
    "trajectoryNames = []\n",
    "for traj in range(N_REPLICAS):\n",
    "    trr = f\"{WORKING_DIR}/{TRAJECTORY_DIR}{traj}/{TRAJECTORY_NAME}\"\n",
    "    trajectoryNames.append(trr)\n",
    "\n",
    "# system = all 20 replicas\n",
    "system = mda.Universe(GRO_FILEPATH,trajectoryNames)\n",
    "nTimes = len(system.trajectory)\n",
    "nAtoms = len(system.atoms)\n",
    "\n",
    "# Now read in the coordinates from the system\n",
    "coordinates = np.zeros((nTimes, nAtoms, 3))\n",
    "for ts in system.trajectory:\n",
    "    coordinates[ts.frame] = ts.positions\n",
    "coordinates = coordinates.reshape((nTimes, nAtoms * 3))\n",
    "\n",
    "# Extra information that will be used to construct final datastructure (df)\n",
    "atom_names = system.atoms.names\n",
    "res_names = system.atoms.resnums\n",
    "atom_masses = system.atoms.masses\n",
    "\n",
    "# An unique identifier for all features\n",
    "column_names = [f\"{res_names[iter]}_{atom_names[iter]}\" for iter in range(len(atom_names))]\n",
    "\n",
    "# The mass of each DEGREE OF FREEDOM (not atom!!!)\n",
    "DOF_masses = [atom_masses[atom] for atom in range(len(atom_masses)) for DOF in [\"X\", \"Y\", \"Z\"]]"
   ]
  },
  {
   "cell_type": "markdown",
   "id": "50844fec-3539-46b7-a4d4-a3faadd6964d",
   "metadata": {},
   "source": [
    "## Step 2 - Compute the displacement along the trajectory \n",
    "\n",
    "Displacement is just the difference between the initial distance vector and current time distance vector. Since we have multiple replicas, we must denote the start time associated with each frame i.e for the first 5000 frames, the initial distance vector is frame 0. For frames 5001 - 10002, the initial distance vector is frame 5001."
   ]
  },
  {
   "cell_type": "code",
   "execution_count": 4,
   "id": "b3e09250-60d8-4eea-bd79-c887a496af52",
   "metadata": {},
   "outputs": [],
   "source": [
    "displacement = np.zeros((np.shape(coordinates)[0], np.shape(coordinates)[1]))\n",
    "\n",
    "# Reference time i.e starting time for each simulations based on total time\n",
    "nTimesPerSimulation = nTimes/N_REPLICAS\n",
    "startTime = np.zeros(nTimes, dtype=int)\n",
    "simulationIdx = np.zeros(nTimes, dtype=int)\n",
    "simulationTime = np.zeros(nTimes, dtype=int)\n",
    "for dt in range(nTimes):\n",
    "    startTime[dt] = int(dt/nTimesPerSimulation) * nTimesPerSimulation\n",
    "    simulationIdx[dt] = int(dt/nTimesPerSimulation)\n",
    "    simulationTime[dt] = dt % nTimesPerSimulation\n",
    "\n",
    "# Compute displacement\n",
    "for timestep in range(len(coordinates)):\n",
    "    displacement[timestep] = coordinates[timestep] - coordinates[startTime[timestep]]"
   ]
  },
  {
   "cell_type": "markdown",
   "id": "1236e57e-7898-4e7e-980f-35624707831c",
   "metadata": {},
   "source": [
    "## Step 3 - Compute the displacement projection along FRESEAN Modes 7 and 8 at 0 THz\n",
    "\n",
    "The displacement projection ($proj_{D,M}$) is computed for each timestep of the trajectory, $D_t$, on each FRESEAN mode, $M$.\n",
    "\n",
    "$$\n",
    "proj_{D,M}(t) = \\textbf{M} \\cdot \\textbf{D} = \\textbf{M} \\cdot (\\textbf{D}_{t} - \\textbf{D}_{ref})\n",
    "$$\n",
    "\n",
    "The reference point, $\\textbf{D}_{ref}$, is defined as $\\textbf{D}_{t=0}$ for each replica i.e we compute the displacement w.r.t the first timestep and project it on each FRESEAN Mode. Units are in Angstroms (MDAnalysis units). \n",
    "\n",
    "The function for computing the projection can be found at the `MLDynamics.properties` package."
   ]
  },
  {
   "cell_type": "code",
   "execution_count": 5,
   "id": "54624877-8fe0-4cc6-bdd0-ed38dac441fb",
   "metadata": {},
   "outputs": [
    {
     "name": "stderr",
     "output_type": "stream",
     "text": [
      "/tmp/ipykernel_1624080/562207430.py:10: FutureWarning: The 'delim_whitespace' keyword in pd.read_csv is deprecated and will be removed in a future version. Use ``sep='\\s+'`` instead\n",
      "  eigenvector = np.array(pd.read_csv(mode, skiprows = lambda x: x in [(nAtoms+2)*i - 1 for i in range(1,1+nModes)] or x in [(nAtoms+2)*i for i in range(1,1+nModes)] or x in [0,(nAtoms+2)*(nModes+nStructure)-1], header=None, delim_whitespace=True)).reshape((nModes+nStructure,nAtoms,10))\n"
     ]
    }
   ],
   "source": [
    "# FRESEAN Mode file that is used as the collective variable file for plumed\n",
    "mode = \"/scratch/masauer2/FMA_KEMP/KE_ML/metad_study/template_R1_metad/05-ModeProj/plumed-mode-input.pdb\"\n",
    "\n",
    "# We have one reference structure\n",
    "nStructure = 1\n",
    "\n",
    "# We have two modes -> 0 THz Mode 7 and 0 THz Mode 8\n",
    "nModes = 2\n",
    "\n",
    "eigenvector = np.array(pd.read_csv(mode, skiprows = lambda x: x in [(nAtoms+2)*i - 1 for i in range(1,1+nModes)] or x in [(nAtoms+2)*i for i in range(1,1+nModes)] or x in [0,(nAtoms+2)*(nModes+nStructure)-1], header=None, delim_whitespace=True)).reshape((nModes+nStructure,nAtoms,10))\n",
    "\n",
    "# We will ignore the reference structure and read in the two modes\n",
    "mode_coordinates = eigenvector[nStructure:,:,PDB_COORDINATE_COLUMNS].reshape((2,nAtoms*3))\n",
    "\n",
    "# Normalize!!\n",
    "mode_coordinates_norm = [mode_coordinates[i]/(np.linalg.norm(mode_coordinates[i])) for i in range(nModes)]"
   ]
  },
  {
   "cell_type": "code",
   "execution_count": 6,
   "id": "3247b245-38fd-4d30-9633-2bbf05c61494",
   "metadata": {},
   "outputs": [],
   "source": [
    "# Extra information that will be used to construct final datastructure (df)\n",
    "mode_resnum = eigenvector[nStructure:,:,4].reshape((2,nAtoms))[0]\n",
    "mode_resname = eigenvector[nStructure:,:,2].reshape((2,nAtoms))[0]\n",
    "mode_column_names = [f\"{mode_resnum[iter]}_{mode_resname[iter]}_{DOF}\" for iter in range(len(mode_resnum)) for DOF in [\"X\", \"Y\", \"Z\"]]"
   ]
  },
  {
   "cell_type": "code",
   "execution_count": 7,
   "id": "d40f8e4a-e7fe-4916-b54e-9efc3091d99a",
   "metadata": {},
   "outputs": [],
   "source": [
    "# Reshape so the 3 DOF per atom are in 1 line\n",
    "mode_coordinates_reshaped = [mode_coordinates_norm[i].reshape((nAtoms,3)) for i in range(nModes)]\n",
    "\n",
    "# Number of frames = Number of times (this variable can be reset to a small value for testing)\n",
    "nFrames = 10\n",
    "\n",
    "# Reshape displacement matrix so that all DOF per atom are one vector \n",
    "displacement_perAtom = displacement[:nFrames].reshape((nFrames,nAtoms,3))\n",
    "\n",
    "# Array to store displacement\n",
    "projection_perAtom = np.zeros((nModes, np.shape(displacement_perAtom)[0],nAtoms))\n",
    "\n",
    "for i in range(np.shape(displacement_perAtom)[0]):\n",
    "    for j in range(np.shape(displacement_perAtom)[1]):\n",
    "        # Hard coded for 2 modes - extend for any number of modes\n",
    "        for modeNum in range(nModes):\n",
    "            projection_perAtom[modeNum,i,j] = properties.projection(displacement_perAtom[i,j],mode_coordinates_reshaped[modeNum][j],nDim=3)\n",
    "    "
   ]
  },
  {
   "cell_type": "markdown",
   "id": "cba71a15-1426-4d95-9854-0b388bf4bae8",
   "metadata": {},
   "source": [
    "## Step 4 - Output the displacement projection to a Data Frame\n",
    "\n",
    "For our purposes, ML_INPUT will be the starting structure of our machine learning pipeline.\n",
    "\n",
    "Notes about the dataset:\n",
    "\n",
    "- This code (run_replicas.ipynb) generates ML_INPUT for EACH protein. This will need to be regenerated for both unevolved and evolved proteins.\n",
    "- Labels are added after the fact using helper functions from `MLDynamics.io` package.\n",
    "\n",
    "Notes about the features: \n",
    "\n",
    "- Each element of the dataframe is a tuple/list containing both the mode 7 and mode 8 projection. Helper functions in `MLDynamics.io` package can be used to parse this data structure\n",
    "\n",
    "Notes for Chris:\n",
    "\n",
    "- We might want to create a `Trajectory` Class that specifies a format for the data frame (columns = atoms, rows = timesteps, elements = lists).\n",
    "- Additionally, we might want to put the helper methods in that class."
   ]
  },
  {
   "cell_type": "code",
   "execution_count": 8,
   "id": "2ef6ff6b-ab1a-4287-b5f2-15023dde9154",
   "metadata": {},
   "outputs": [],
   "source": [
    "displacementProjection_Modes = np.zeros((np.shape(displacement_perAtom)[0],nAtoms), dtype=object)\n",
    "for row in range(len(displacementProjection_Modes)):\n",
    "    for col in range(len(displacementProjection_Modes[row])):\n",
    "        displacementProjection_Modes[row, col] = [projection_perAtom[0, row, col], projection_perAtom[1, row, col]]\n",
    "\n",
    "ML_INPUT = pd.DataFrame(displacementProjection_Modes, columns=column_names)\n",
    "\n",
    "ML_INPUT_WITHLABELS = io.add_labels(ML_INPUT, [\"Simulation Number\", \"Simulation Time\", \"Identity\"], [simulationIdx, simulationTime, [\"Unevolved\"]*np.shape(ML_INPUT)[0]])\n",
    "ML_INPUT_WITHLABELS.to_pickle(\"ML_INPUT_test.pkl\")  "
   ]
  },
  {
   "cell_type": "code",
   "execution_count": 12,
   "id": "ca16a188-9b84-4a76-8b97-099be016db21",
   "metadata": {},
   "outputs": [
    {
     "ename": "TypeError",
     "evalue": "type list doesn't define __trunc__ method",
     "output_type": "error",
     "traceback": [
      "\u001b[0;31m---------------------------------------------------------------------------\u001b[0m",
      "\u001b[0;31mTypeError\u001b[0m                                 Traceback (most recent call last)",
      "Cell \u001b[0;32mIn[12], line 4\u001b[0m\n\u001b[1;32m      1\u001b[0m \u001b[38;5;28;01mdef\u001b[39;00m \u001b[38;5;21mtrunc\u001b[39m(values, decs\u001b[38;5;241m=\u001b[39m\u001b[38;5;241m0\u001b[39m):\n\u001b[1;32m      2\u001b[0m     \u001b[38;5;28;01mreturn\u001b[39;00m np\u001b[38;5;241m.\u001b[39mtrunc(values\u001b[38;5;241m*\u001b[39m\u001b[38;5;241m10\u001b[39m\u001b[38;5;241m*\u001b[39m\u001b[38;5;241m*\u001b[39mdecs)\u001b[38;5;241m/\u001b[39m(\u001b[38;5;241m10\u001b[39m\u001b[38;5;241m*\u001b[39m\u001b[38;5;241m*\u001b[39mdecs)\n\u001b[0;32m----> 4\u001b[0m \u001b[43mtrunc\u001b[49m\u001b[43m(\u001b[49m\u001b[43mdisplacementProjection_Modes\u001b[49m\u001b[43m,\u001b[49m\u001b[43m \u001b[49m\u001b[43mdecs\u001b[49m\u001b[38;5;241;43m=\u001b[39;49m\u001b[38;5;241;43m2\u001b[39;49m\u001b[43m)\u001b[49m\n",
      "Cell \u001b[0;32mIn[12], line 2\u001b[0m, in \u001b[0;36mtrunc\u001b[0;34m(values, decs)\u001b[0m\n\u001b[1;32m      1\u001b[0m \u001b[38;5;28;01mdef\u001b[39;00m \u001b[38;5;21mtrunc\u001b[39m(values, decs\u001b[38;5;241m=\u001b[39m\u001b[38;5;241m0\u001b[39m):\n\u001b[0;32m----> 2\u001b[0m     \u001b[38;5;28;01mreturn\u001b[39;00m \u001b[43mnp\u001b[49m\u001b[38;5;241;43m.\u001b[39;49m\u001b[43mtrunc\u001b[49m\u001b[43m(\u001b[49m\u001b[43mvalues\u001b[49m\u001b[38;5;241;43m*\u001b[39;49m\u001b[38;5;241;43m10\u001b[39;49m\u001b[38;5;241;43m*\u001b[39;49m\u001b[38;5;241;43m*\u001b[39;49m\u001b[43mdecs\u001b[49m\u001b[43m)\u001b[49m\u001b[38;5;241m/\u001b[39m(\u001b[38;5;241m10\u001b[39m\u001b[38;5;241m*\u001b[39m\u001b[38;5;241m*\u001b[39mdecs)\n",
      "\u001b[0;31mTypeError\u001b[0m: type list doesn't define __trunc__ method"
     ]
    }
   ],
   "source": [
    "def trunc(values, decs=0):\n",
    "    return np.trunc(values*10**decs)/(10**decs)\n",
    "\n",
    "trunc(displacementProjection_Modes, decs=2)"
   ]
  },
  {
   "cell_type": "code",
   "execution_count": null,
   "id": "d529351e-6b6c-4241-84c8-32ea910ee695",
   "metadata": {},
   "outputs": [],
   "source": []
  }
 ],
 "metadata": {
  "kernelspec": {
   "display_name": "KEMP_ML",
   "language": "python",
   "name": "kemp_ml"
  },
  "language_info": {
   "codemirror_mode": {
    "name": "ipython",
    "version": 3
   },
   "file_extension": ".py",
   "mimetype": "text/x-python",
   "name": "python",
   "nbconvert_exporter": "python",
   "pygments_lexer": "ipython3",
   "version": "3.12.5"
  }
 },
 "nbformat": 4,
 "nbformat_minor": 5
}
