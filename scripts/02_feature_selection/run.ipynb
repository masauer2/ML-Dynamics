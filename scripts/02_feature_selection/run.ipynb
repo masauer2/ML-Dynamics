{
 "cells": [
  {
   "cell_type": "code",
   "execution_count": 2,
   "id": "9001caf4-b99a-4d56-b28d-c1ed6ca2dec7",
   "metadata": {},
   "outputs": [
    {
     "name": "stderr",
     "output_type": "stream",
     "text": [
      "/home/masauer2/.conda/envs/KEMP_ML/lib/python3.12/site-packages/tqdm/auto.py:21: TqdmWarning: IProgress not found. Please update jupyter and ipywidgets. See https://ipywidgets.readthedocs.io/en/stable/user_install.html\n",
      "  from .autonotebook import tqdm as notebook_tqdm\n"
     ]
    }
   ],
   "source": [
    "import MDAnalysis as mda\n",
    "import numpy as np\n",
    "from numpy import linalg \n",
    "import pandas as pd\n",
    "import matplotlib.pyplot as plt\n",
    "import pickle \n",
    "from MLDynamics import io"
   ]
  },
  {
   "cell_type": "code",
   "execution_count": 3,
   "id": "65ea1db6-55bb-48ec-a68e-b0d72cd3c14d",
   "metadata": {},
   "outputs": [],
   "source": [
    "df = pd.DataFrame()\n",
    "df[\"hi\"] = [1,2]"
   ]
  },
  {
   "cell_type": "code",
   "execution_count": 6,
   "id": "71cf1bf2-754b-4e24-b657-367a4d2e22d4",
   "metadata": {},
   "outputs": [],
   "source": [
    "np.save(\"t\",df.to_numpy())"
   ]
  },
  {
   "cell_type": "code",
   "execution_count": null,
   "id": "a9316274-d5ec-4d76-8abd-15a9d5352ae6",
   "metadata": {},
   "outputs": [],
   "source": []
  }
 ],
 "metadata": {
  "kernelspec": {
   "display_name": "KEMP_ML",
   "language": "python",
   "name": "kemp_ml"
  },
  "language_info": {
   "codemirror_mode": {
    "name": "ipython",
    "version": 3
   },
   "file_extension": ".py",
   "mimetype": "text/x-python",
   "name": "python",
   "nbconvert_exporter": "python",
   "pygments_lexer": "ipython3",
   "version": "3.12.5"
  }
 },
 "nbformat": 4,
 "nbformat_minor": 5
}
