{
 "cells": [
  {
   "cell_type": "code",
   "execution_count": 8,
   "id": "b6824387-f14e-4c66-becb-3bdff36aacb6",
   "metadata": {},
   "outputs": [],
   "source": [
    "import MDAnalysis as mda\n",
    "import numpy as np\n",
    "from numpy import linalg \n",
    "import pandas as pd\n",
    "import matplotlib.pyplot as plt\n",
    "\n",
    "from MLDynamics import io\n",
    "\n",
    "ML_INPUT = pd.read_pickle(\"../01_read_trr/ML_INPUT.pkl\")  "
   ]
  },
  {
   "cell_type": "code",
   "execution_count": 7,
   "id": "71cf1bf2-754b-4e24-b657-367a4d2e22d4",
   "metadata": {},
   "outputs": [
    {
     "ename": "NameError",
     "evalue": "name 'simulationIdx' is not defined",
     "output_type": "error",
     "traceback": [
      "\u001b[0;31m---------------------------------------------------------------------------\u001b[0m",
      "\u001b[0;31mNameError\u001b[0m                                 Traceback (most recent call last)",
      "Cell \u001b[0;32mIn[7], line 3\u001b[0m\n\u001b[1;32m      1\u001b[0m ML_INPUT_NTERM \u001b[38;5;241m=\u001b[39m io\u001b[38;5;241m.\u001b[39mselect_atom(ML_INPUT, [\u001b[38;5;124m\"\u001b[39m\u001b[38;5;124m1_N\u001b[39m\u001b[38;5;124m\"\u001b[39m, \u001b[38;5;124m\"\u001b[39m\u001b[38;5;124m1_H1\u001b[39m\u001b[38;5;124m\"\u001b[39m, \u001b[38;5;124m\"\u001b[39m\u001b[38;5;124m1_H2\u001b[39m\u001b[38;5;124m\"\u001b[39m, \u001b[38;5;124m\"\u001b[39m\u001b[38;5;124m1_H3\u001b[39m\u001b[38;5;124m\"\u001b[39m])\n\u001b[1;32m      2\u001b[0m ML_INPUT_NTERM_MODE7_PROJECTION \u001b[38;5;241m=\u001b[39m io\u001b[38;5;241m.\u001b[39mselect_mode(ML_INPUT_NTERM, modeNum \u001b[38;5;241m=\u001b[39m \u001b[38;5;241m0\u001b[39m)\n\u001b[0;32m----> 3\u001b[0m df4 \u001b[38;5;241m=\u001b[39m io\u001b[38;5;241m.\u001b[39madd_labels(ML_INPUT_NTERM, [\u001b[38;5;124m\"\u001b[39m\u001b[38;5;124mSimulation Number\u001b[39m\u001b[38;5;124m\"\u001b[39m, \u001b[38;5;124m\"\u001b[39m\u001b[38;5;124mSimulation Time\u001b[39m\u001b[38;5;124m\"\u001b[39m, \u001b[38;5;124m\"\u001b[39m\u001b[38;5;124mIdentity\u001b[39m\u001b[38;5;124m\"\u001b[39m], [\u001b[43msimulationIdx\u001b[49m, simulationTime, [\u001b[38;5;124m\"\u001b[39m\u001b[38;5;124mUnevolved\u001b[39m\u001b[38;5;124m\"\u001b[39m]\u001b[38;5;241m*\u001b[39m\u001b[38;5;241m10\u001b[39m])\n",
      "\u001b[0;31mNameError\u001b[0m: name 'simulationIdx' is not defined"
     ]
    }
   ],
   "source": [
    "ML_INPUT_NTERM = io.select_atom(ML_INPUT, [\"1_N\", \"1_H1\", \"1_H2\", \"1_H3\"])\n",
    "ML_INPUT_NTERM_MODE7_PROJECTION = io.select_mode(ML_INPUT_NTERM, modeNum = 0)\n",
    "df4 = io.add_labels(ML_INPUT_NTERM, [\"Simulation Number\", \"Simulation Time\", \"Identity\"], [simulationIdx, simulationTime, [\"Unevolved\"]*10])"
   ]
  },
  {
   "cell_type": "code",
   "execution_count": 2,
   "id": "5ef58a3c-1b4e-4aad-9539-d39c8a2edb9d",
   "metadata": {},
   "outputs": [
    {
     "name": "stdout",
     "output_type": "stream",
     "text": [
      "hello\n",
      "7.748603820800781e-05\n"
     ]
    }
   ],
   "source": [
    "import time\n",
    "start = time.time()\n",
    "print(\"hello\")\n",
    "end = time.time()\n",
    "print(end - start)"
   ]
  },
  {
   "cell_type": "code",
   "execution_count": null,
   "id": "9bacdda8-2539-443b-83ba-9c82777592fd",
   "metadata": {},
   "outputs": [],
   "source": []
  }
 ],
 "metadata": {
  "kernelspec": {
   "display_name": "KEMP_ML",
   "language": "python",
   "name": "kemp_ml"
  },
  "language_info": {
   "codemirror_mode": {
    "name": "ipython",
    "version": 3
   },
   "file_extension": ".py",
   "mimetype": "text/x-python",
   "name": "python",
   "nbconvert_exporter": "python",
   "pygments_lexer": "ipython3",
   "version": "3.12.5"
  }
 },
 "nbformat": 4,
 "nbformat_minor": 5
}
