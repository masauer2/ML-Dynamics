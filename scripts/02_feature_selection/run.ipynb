{
 "cells": [
  {
   "cell_type": "code",
   "execution_count": 2,
   "id": "9001caf4-b99a-4d56-b28d-c1ed6ca2dec7",
   "metadata": {},
   "outputs": [
    {
     "name": "stderr",
     "output_type": "stream",
     "text": [
      "/home/masauer2/.conda/envs/KEMP_ML/lib/python3.12/site-packages/tqdm/auto.py:21: TqdmWarning: IProgress not found. Please update jupyter and ipywidgets. See https://ipywidgets.readthedocs.io/en/stable/user_install.html\n",
      "  from .autonotebook import tqdm as notebook_tqdm\n"
     ]
    }
   ],
   "source": [
    "import MDAnalysis as mda\n",
    "import numpy as np\n",
    "from numpy import linalg \n",
    "import pandas as pd\n",
    "import matplotlib.pyplot as plt\n",
    "import pickle \n",
    "from MLDynamics import io"
   ]
  },
  {
   "cell_type": "code",
   "execution_count": 11,
   "id": "65ea1db6-55bb-48ec-a68e-b0d72cd3c14d",
   "metadata": {},
   "outputs": [
    {
     "data": {
      "text/plain": [
       "array([[list([0.002502063366242834, -0.062323195897534094]),\n",
       "        list([0.0008009234951402958, -0.016274437403398977]),\n",
       "        list([0.0008779751271326162, -0.01853311360944046]), ..., 0, 500,\n",
       "        'Unevolved'],\n",
       "       [list([-1.3949150983730624e-05, -0.04573865687381554]),\n",
       "        list([1.4016486252672046e-05, -0.012866889009572113]),\n",
       "        list([6.762855018961798e-05, -0.011605574043219689]), ..., 0,\n",
       "        501, 'Unevolved'],\n",
       "       [list([-0.0001223306047588642, -0.05077343366104553]),\n",
       "        list([0.0010317143141218578, -0.01492277188323678]),\n",
       "        list([-0.0003140312287065775, -0.02059521771059378]), ..., 0,\n",
       "        502, 'Unevolved'],\n",
       "       ...,\n",
       "       [list([0.0015429532007033492, -0.0284484426835943]),\n",
       "        list([0.0014899579599065686, -0.008607768766219598]),\n",
       "        list([2.0719986203840193e-05, -0.01266098070250742]), ..., 0,\n",
       "        997, 'Unevolved'],\n",
       "       [list([-0.002448010059659936, -0.0029987619160953185]),\n",
       "        list([0.00046556619348965387, -0.00299511147488412]),\n",
       "        list([-0.001343630241674254, -0.005130075278487797]), ..., 0,\n",
       "        998, 'Unevolved'],\n",
       "       [list([0.0023826146276426903, 0.03956642596421404]),\n",
       "        list([0.0018163065072368703, 0.00810780140532143]),\n",
       "        list([-6.120307460289645e-05, 0.00771879378693559]), ..., 0, 999,\n",
       "        'Unevolved']], dtype=object)"
      ]
     },
     "execution_count": 11,
     "metadata": {},
     "output_type": "execute_result"
    }
   ],
   "source": [
    "np.load(\"../01_read_trr/ML_INPUT_0_1.npy\",allow_pickle=True)"
   ]
  },
  {
   "cell_type": "code",
   "execution_count": 6,
   "id": "71cf1bf2-754b-4e24-b657-367a4d2e22d4",
   "metadata": {},
   "outputs": [],
   "source": [
    "np.save(\"t\",df.to_numpy())"
   ]
  },
  {
   "cell_type": "code",
   "execution_count": null,
   "id": "a9316274-d5ec-4d76-8abd-15a9d5352ae6",
   "metadata": {},
   "outputs": [],
   "source": []
  }
 ],
 "metadata": {
  "kernelspec": {
   "display_name": "KEMP_ML",
   "language": "python",
   "name": "kemp_ml"
  },
  "language_info": {
   "codemirror_mode": {
    "name": "ipython",
    "version": 3
   },
   "file_extension": ".py",
   "mimetype": "text/x-python",
   "name": "python",
   "nbconvert_exporter": "python",
   "pygments_lexer": "ipython3",
   "version": "3.12.5"
  }
 },
 "nbformat": 4,
 "nbformat_minor": 5
}
